{
 "cells": [
  {
   "cell_type": "markdown",
   "id": "controversial-reset",
   "metadata": {},
   "source": [
    "## Load tree via uproot"
   ]
  },
  {
   "cell_type": "code",
   "execution_count": null,
   "id": "comfortable-lindsay",
   "metadata": {},
   "outputs": [],
   "source": [
    "import uproot\n",
    "import awkward as ak\n"
   ]
  },
  {
   "cell_type": "code",
   "execution_count": null,
   "id": "interracial-equivalent",
   "metadata": {},
   "outputs": [],
   "source": [
    "fileName = '/udrive/staff/dnoonan/Skims/TTGamma_SingleLept_2016_skim.root'\n",
    "_ttg_file = uproot.open(fileName)"
   ]
  },
  {
   "cell_type": "code",
   "execution_count": null,
   "id": "parliamentary-socket",
   "metadata": {},
   "outputs": [],
   "source": [
    "_ttg_file.keys()"
   ]
  },
  {
   "cell_type": "code",
   "execution_count": null,
   "id": "second-culture",
   "metadata": {},
   "outputs": [],
   "source": [
    "_ttg_tree = _ttg_file['Events']"
   ]
  },
  {
   "cell_type": "code",
   "execution_count": null,
   "id": "refined-intent",
   "metadata": {},
   "outputs": [],
   "source": [
    "_ttg_tree.keys()"
   ]
  },
  {
   "cell_type": "code",
   "execution_count": null,
   "id": "superb-smile",
   "metadata": {},
   "outputs": [],
   "source": [
    "arrays = _ttg_tree.arrays(['Jet_pt','Jet_eta'])"
   ]
  },
  {
   "cell_type": "code",
   "execution_count": null,
   "id": "accepting-perception",
   "metadata": {},
   "outputs": [],
   "source": [
    "arrays['Jet_eta']"
   ]
  },
  {
   "cell_type": "code",
   "execution_count": null,
   "id": "purple-algorithm",
   "metadata": {},
   "outputs": [],
   "source": [
    "arrays['Jet_pt']"
   ]
  },
  {
   "cell_type": "code",
   "execution_count": null,
   "id": "asian-halifax",
   "metadata": {},
   "outputs": [],
   "source": [
    "jetSelect = ((arrays['Jet_pt']>30) & \n",
    "             (abs(arrays['Jet_eta'])<2.4))"
   ]
  },
  {
   "cell_type": "code",
   "execution_count": null,
   "id": "rocky-placement",
   "metadata": {},
   "outputs": [],
   "source": [
    "goodJetPt = arrays['Jet_pt'][jetSelect]"
   ]
  },
  {
   "cell_type": "code",
   "execution_count": null,
   "id": "constitutional-plant",
   "metadata": {},
   "outputs": [],
   "source": [
    "ak.count(arrays['Jet_pt'],axis=1)"
   ]
  },
  {
   "cell_type": "code",
   "execution_count": null,
   "id": "hairy-interview",
   "metadata": {},
   "outputs": [],
   "source": [
    "ak.count(goodJetPt,axis=1)"
   ]
  },
  {
   "cell_type": "markdown",
   "id": "technical-friendship",
   "metadata": {},
   "source": [
    "#### Make plot of pt and eta of all jets, and selected jets"
   ]
  },
  {
   "cell_type": "code",
   "execution_count": null,
   "id": "disturbed-focus",
   "metadata": {},
   "outputs": [],
   "source": [
    "import matplotlib.pyplot as plt"
   ]
  },
  {
   "cell_type": "code",
   "execution_count": null,
   "id": "monetary-header",
   "metadata": {},
   "outputs": [],
   "source": [
    "plt.hist(goodJetPt)"
   ]
  },
  {
   "cell_type": "code",
   "execution_count": null,
   "id": "directed-series",
   "metadata": {},
   "outputs": [],
   "source": []
  },
  {
   "cell_type": "markdown",
   "id": "laughing-valley",
   "metadata": {},
   "source": [
    "## Load data with Coffea\n",
    "\n",
    "Use NanoEvents within Coffea to read and interpret file, loading branches"
   ]
  },
  {
   "cell_type": "code",
   "execution_count": null,
   "id": "commercial-dealer",
   "metadata": {},
   "outputs": [],
   "source": [
    "from coffea.nanoevents import NanoEventsFactory, NanoAODSchema\n"
   ]
  },
  {
   "cell_type": "code",
   "execution_count": null,
   "id": "ethical-indicator",
   "metadata": {},
   "outputs": [],
   "source": [
    "### This is currently not working on the skims, and checking with Coffea experts\n",
    "# from coffea.nanoevents import NanoEventsFactory, NanoAODSchema\n",
    "# NanoAODSchema.warn_missing_crossrefs=True\n",
    "# events = NanoEventsFactory.from_root(fileName, schemaclass=NanoAODSchema).events()\n"
   ]
  },
  {
   "cell_type": "code",
   "execution_count": null,
   "id": "obvious-nerve",
   "metadata": {},
   "outputs": [],
   "source": []
  },
  {
   "cell_type": "code",
   "execution_count": null,
   "id": "appreciated-america",
   "metadata": {},
   "outputs": [],
   "source": []
  }
 ],
 "metadata": {
  "kernelspec": {
   "display_name": "ttgenv",
   "language": "python",
   "name": "ttgenv"
  },
  "language_info": {
   "codemirror_mode": {
    "name": "ipython",
    "version": 3
   },
   "file_extension": ".py",
   "mimetype": "text/x-python",
   "name": "python",
   "nbconvert_exporter": "python",
   "pygments_lexer": "ipython3",
   "version": "3.6.8"
  }
 },
 "nbformat": 4,
 "nbformat_minor": 5
}
