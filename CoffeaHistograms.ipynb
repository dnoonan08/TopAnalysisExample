{
 "cells": [
  {
   "cell_type": "markdown",
   "id": "secondary-pixel",
   "metadata": {},
   "source": [
    "## Coffea Histograms\n",
    "In addition to handling the nanoAOD input, coffea has a histogram format which has some features which are useful for needs.  One of the most useful thing about them is the ability to aggregate data when using a coffea processor (which you'll use later)\n",
    "\n",
    "### Pyplot histograms\n",
    "The histograms you used previous were made with matplotlib.  These are useful for quickly making a histogram from numpy arrays"
   ]
  },
  {
   "cell_type": "code",
   "execution_count": null,
   "id": "plastic-jewelry",
   "metadata": {},
   "outputs": [],
   "source": [
    "import numpy as np\n",
    "import matplotlib.pyplot as plt"
   ]
  },
  {
   "cell_type": "code",
   "execution_count": null,
   "id": "military-johns",
   "metadata": {},
   "outputs": [],
   "source": [
    "#make histograms of three random normal distributions\n",
    "p1 = np.random.normal(130,10,400)\n",
    "p2 = np.random.normal(100,25,5000)\n",
    "p3 = np.random.normal(80,100,2000)\n",
    "plt.hist(p1,bins=np.linspace(0,200,41),histtype='step',label='Process 1')\n",
    "plt.hist(p2,bins=np.linspace(0,200,41),histtype='step',label='Process 2')\n",
    "plt.hist(p3,bins=np.linspace(0,200,41),histtype='step',label='Process 3')\n",
    "plt.legend();"
   ]
  },
  {
   "cell_type": "markdown",
   "id": "ranging-bradford",
   "metadata": {},
   "source": [
    "This can be thought of to represent some property of three different datasets: Process 1, Process 2, and Process 3.\n",
    "\n",
    "Each of the histograms have the same x-axis (binned from 0 to 200, with a width of 5)\n",
    "\n",
    "In this case, the histograms are only made when you draw them, and can not be updated (ex, adding more data)."
   ]
  },
  {
   "cell_type": "markdown",
   "id": "cutting-tobacco",
   "metadata": {},
   "source": [
    "### Coffea histograms\n",
    "\n",
    "Histograms can be made in coffea in a similar way, but with a few key difference.\n",
    "\n",
    "First, coffea hist objects need to be defined first, then filled (similar to a histogram in ROOT).  This makes it possible to \n",
    "\n",
    "Second, coffea histograms support having multiple axes.  So, for example, rather than three histograms as in the example above (one for each process), you can make one histogram with all of the values in it, with one axis for the data points, and another axis tracking the process type"
   ]
  },
  {
   "cell_type": "code",
   "execution_count": null,
   "id": "egyptian-burning",
   "metadata": {},
   "outputs": [],
   "source": [
    "from coffea import hist"
   ]
  },
  {
   "cell_type": "code",
   "execution_count": null,
   "id": "useful-serial",
   "metadata": {},
   "outputs": [],
   "source": [
    "#Need to declare the list of axes first\n",
    "\n",
    "#Create axis, which we'll call 'x', for the data.\n",
    "# This will be a 'Bin' axis, storing numerical values that we wanted binned from 0 to 200 with a bin width of 5\n",
    "x_axis = hist.Bin(\"x\", r\"$x$\", 40, 0., 200)\n",
    "\n",
    "#Declare an axis for the dataset\n",
    "# This is a 'Cat' axis, storing categories of data\n",
    "# In this type of axis, if a new value is filled, a new category 'bin' is created on the axis\n",
    "dataset_axis = hist.Cat(\"dataset\",\"Dataset\")\n",
    "\n",
    "#declare the histogram, with a label and all of the axes\n",
    "thisHistogram = hist.Hist(\"Observed Counts\", \n",
    "                          dataset_axis, \n",
    "                          x_axis)\n"
   ]
  },
  {
   "cell_type": "code",
   "execution_count": null,
   "id": "pressing-width",
   "metadata": {},
   "outputs": [],
   "source": [
    "thisHistogram.fill(dataset='Process 1',\n",
    "                  x=p1)\n",
    "thisHistogram.fill(dataset='Process 2',\n",
    "                  x=p2)\n",
    "thisHistogram.fill(dataset='Process 3',\n",
    "                  x=p3)\n"
   ]
  },
  {
   "cell_type": "markdown",
   "id": "polyphonic-clarity",
   "metadata": {},
   "source": [
    "Histogram can be drawn with the hist.plot1d function, however it can only handle 1 dimension, not multiple dimensions, so we need to tell it how to handle the 'dataset' axis.\n",
    "\n",
    "In this case, we will use the overlay option, telling it to overlay the different values in the dataset axis on the same plot\n"
   ]
  },
  {
   "cell_type": "code",
   "execution_count": null,
   "id": "critical-original",
   "metadata": {},
   "outputs": [],
   "source": [
    "hist.plot1d(thisHistogram,overlay='dataset')\n",
    "plt.show()\n",
    "\n",
    "#We can also make a stacked plot, using the stack=True\n",
    "hist.plot1d(thisHistogram,overlay='dataset',stack=True)\n",
    "plt.show()\n",
    "\n",
    "#and can change the order, but specifying a list with the order we want to stack the histograms in (bottom to top)\n",
    "hist.plot1d(thisHistogram,overlay='dataset',stack=True,order=['Process 3','Process 2','Process 1'])\n",
    "plt.show()"
   ]
  },
  {
   "cell_type": "markdown",
   "id": "decreased-outreach",
   "metadata": {},
   "source": [
    "It is also possible to apply selections on a specific axis, for example selecting only one dataset to be drawn, or only a specific range of the graphe\n",
    "\n",
    "This can be in one of two ways:\n",
    " - Integrating/summing over an axis.  This will select all or a portion of the values in an axis to be integrated over.  Afterwards, the axis no longer exists (similar to a Projection on a TH2 in ROOT)\n",
    " - Slicing on an axis.  This can select a range of values within an axis.  Some bins from an axis are removed, but the axis itself remains (similar to SetRange in ROOT)"
   ]
  },
  {
   "cell_type": "code",
   "execution_count": null,
   "id": "found-europe",
   "metadata": {},
   "outputs": [],
   "source": [
    "#Summing\n",
    "print('Histogram before summing:')\n",
    "print(thisHistogram)\n",
    "print('Histogram after summing dataset:')\n",
    "print(thisHistogram.sum('dataset'))\n",
    "\n",
    "## dataset axis will be removed by summing, so there is no second axis to overlay\n",
    "hist.plot1d(thisHistogram.sum('dataset'))\n"
   ]
  },
  {
   "cell_type": "code",
   "execution_count": null,
   "id": "chicken-montgomery",
   "metadata": {},
   "outputs": [],
   "source": [
    "#Integrating\n",
    "print('Histogram after integrating dataset over only Process 1:')\n",
    "print(thisHistogram.integrate('dataset',['Process 1']))\n",
    "print('Histogram after integrating dataset over Process 1 and Process 2:')\n",
    "print(thisHistogram.integrate('dataset',['Process 1','Process 2']))\n",
    "\n",
    "#Notice in both cases, there is no dataset axis, even though they include different number of processes.  \n",
    "#Similar to summing, integrating removes the axis, and selected bins are summed together\n",
    "\n",
    "hist.plot1d(thisHistogram.integrate('dataset',['Process 1']))\n",
    "plt.show()\n",
    "\n",
    "hist.plot1d(thisHistogram.integrate('dataset',['Process 1','Process 2']))\n",
    "plt.show()"
   ]
  },
  {
   "cell_type": "code",
   "execution_count": null,
   "id": "federal-acquisition",
   "metadata": {},
   "outputs": [],
   "source": [
    "#Slicing\n",
    "# coffea histograms can support numpy style array slicing over the bins in a histogram.  \n",
    "# This can be used to select a subset of bins in a histogram, but not sum over them\n",
    "\n",
    "#example, selecting two processes\n",
    "hist.plot1d(thisHistogram[['Process 1','Process 2'],:], overlay='dataset')\n",
    "plt.show()\n",
    "\n",
    "#example, selecting two processes\n",
    "hist.plot1d(thisHistogram[:,75:175], overlay='dataset', stack=True)\n",
    "plt.show()\n"
   ]
  },
  {
   "cell_type": "code",
   "execution_count": null,
   "id": "critical-strengthening",
   "metadata": {},
   "outputs": [],
   "source": [
    "## TODO\n",
    "# make a stacked plot of process 1 and process 3, between 100 and 150\n",
    "\n",
    "\n",
    "\n",
    "\n"
   ]
  },
  {
   "cell_type": "markdown",
   "id": "unexpected-scout",
   "metadata": {},
   "source": [
    "Coffea is capable of handling even more axes.  In the example below, we create a histogram with 3 dimensions: pt, eta, and dataset"
   ]
  },
  {
   "cell_type": "code",
   "execution_count": null,
   "id": "personal-density",
   "metadata": {},
   "outputs": [],
   "source": [
    "#define a histogram with 3 axes, the dataset, and then the pt and eta of a particle\n",
    "pt_axis = hist.Bin(\"pt\", r\"$p_T$\", 40, 0., 200)\n",
    "eta_axis = hist.Bin(\"eta\", r\"$\\eta$\", 10, -3, 3)\n",
    "dataset_axis = hist.Cat(\"dataset\",\"Dataset\")\n",
    "\n",
    "pt_eta_Histogram = hist.Hist(\"Observed Counts\", \n",
    "                              dataset_axis, \n",
    "                              pt_axis,\n",
    "                              eta_axis)\n",
    "\n",
    "#Let's fill with randomly generated data for the pt and eta\n",
    "pt_wgamma = np.random.exponential(10,1000)\n",
    "eta_wgamma = np.random.normal(0,1,1000)\n",
    "pt_eta_Histogram.fill(dataset='WGamma',\n",
    "                     pt=pt_wgamma,\n",
    "                     eta=eta_wgamma)\n",
    "\n",
    "pt_tt = np.random.exponential(10,1000)\n",
    "eta_tt = np.random.normal(0,2,1000)\n",
    "pt_eta_Histogram.fill(dataset='TTbar',\n",
    "                     pt=pt_tt,\n",
    "                     eta=eta_tt)\n",
    "\n",
    "pt_ttgamma = np.random.exponential(30,2000)\n",
    "eta_ttgamma = np.random.normal(0,1,2000)\n",
    "pt_eta_Histogram.fill(dataset='TTGamma',\n",
    "                     pt=pt_ttgamma,\n",
    "                     eta=eta_ttgamma)\n",
    "\n"
   ]
  },
  {
   "cell_type": "markdown",
   "id": "educated-china",
   "metadata": {},
   "source": [
    "The plot1d function can handle at most 2 dimensions (one to be plotted, one to be overlayed)\n",
    "\n",
    "When more than two axes are present, overlaying is not enough.  We need to sum or integrate over some of the axes to reduce the number to 1 or 2"
   ]
  },
  {
   "cell_type": "code",
   "execution_count": null,
   "id": "peripheral-energy",
   "metadata": {},
   "outputs": [],
   "source": [
    "#Sum over eat, drawing pt for a stack of datasets\n",
    "hist.plot1d(pt_eta_Histogram.sum('eta'),overlay='dataset',stack=True)\n"
   ]
  },
  {
   "cell_type": "code",
   "execution_count": null,
   "id": "unlikely-boulder",
   "metadata": {},
   "outputs": [],
   "source": [
    "# you can also use plot2d function to plot two numerical axes against each other\n",
    "# this can not handle overlays, so the dataset axis must be summed over\n",
    "hist.plot2d(pt_eta_Histogram.integrate('dataset','TTGamma'),'pt')"
   ]
  },
  {
   "cell_type": "code",
   "execution_count": null,
   "id": "unknown-basin",
   "metadata": {},
   "outputs": [],
   "source": [
    "##TODO\n",
    "\n",
    "# Draw a histogram of eta, stacking the datasets\n"
   ]
  },
  {
   "cell_type": "code",
   "execution_count": null,
   "id": "worse-fifth",
   "metadata": {},
   "outputs": [],
   "source": [
    "##TODO\n",
    "# Draw a histogram of pt, for only eta > 0, stacking the datasets\n"
   ]
  },
  {
   "cell_type": "code",
   "execution_count": null,
   "id": "collaborative-sampling",
   "metadata": {},
   "outputs": [],
   "source": [
    "##TODO\n",
    "# Draw a histogram of pt, for only TTGamma, with the eta axis as the overlay\n"
   ]
  },
  {
   "cell_type": "code",
   "execution_count": null,
   "id": "promising-fitting",
   "metadata": {},
   "outputs": [],
   "source": [
    "import awkward as ak\n",
    "from coffea.nanoevents import NanoEventsFactory, NanoAODSchema\n",
    "\n",
    "#the NanoAODSchema needs to be adjusted, to remove cross references to FSRPhotons\n",
    "class SkimmedSchema(NanoAODSchema):\n",
    "    def __init__(self, base_form):\n",
    "        base_form[\"contents\"].pop(\"Muon_fsrPhotonIdx\", None)\n",
    "        super().__init__(base_form)\n",
    "\n",
    "fileName = '/udrive/staff/dnoonan/Skims/TTGamma_SingleLept_2016_skim.root'\n",
    "eventsTTGamma = NanoEventsFactory.from_root(fileName, schemaclass=SkimmedSchema,entry_stop=100000).events()\n",
    "\n",
    "fileName = '/udrive/staff/dnoonan/Skims/TTbarPowheg_Semilept_2016_skim_1of10.root'\n",
    "eventsTTbar = NanoEventsFactory.from_root(fileName, schemaclass=SkimmedSchema,entry_stop=100000).events()\n",
    "\n",
    "fileName = '/udrive/staff/dnoonan/Skims/WGamma_2016_skim.root'\n",
    "eventsWGamma = NanoEventsFactory.from_root(fileName, schemaclass=SkimmedSchema,entry_stop=100000).events()\n"
   ]
  },
  {
   "cell_type": "markdown",
   "id": "presidential-allocation",
   "metadata": {},
   "source": [
    "## To do\n",
    "\n",
    "Using the same selection as you applied in LoadTopSkims, select events with exactly 1 good muon, 0 good electrons, \n",
    "\n",
    " - Make a coffea histogram for the muon pt, eta, and phi\n",
    " - Make a coffea histogram for the leading jet pt, eta, and phi\n",
    " - Make a coffea histogram for the leading photon pt, eta, phi, and relIso (filled from pfRelIso03_chg branch)\n",
    " - Fill these with data from TTgamma, TTbar, and Wgamma\n",
    " - Make plots of each of these variables, with datasets stacked"
   ]
  },
  {
   "cell_type": "code",
   "execution_count": null,
   "id": "legal-little",
   "metadata": {},
   "outputs": [],
   "source": []
  },
  {
   "cell_type": "code",
   "execution_count": null,
   "id": "increasing-broadcast",
   "metadata": {},
   "outputs": [],
   "source": []
  }
 ],
 "metadata": {
  "kernelspec": {
   "display_name": "ttgenv",
   "language": "python",
   "name": "ttgenv"
  },
  "language_info": {
   "codemirror_mode": {
    "name": "ipython",
    "version": 3
   },
   "file_extension": ".py",
   "mimetype": "text/x-python",
   "name": "python",
   "nbconvert_exporter": "python",
   "pygments_lexer": "ipython3",
   "version": "3.6.8"
  }
 },
 "nbformat": 4,
 "nbformat_minor": 5
}
